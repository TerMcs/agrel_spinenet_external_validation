{
 "cells": [
  {
   "cell_type": "code",
   "execution_count": 2,
   "metadata": {},
   "outputs": [],
   "source": [
    "import itertools\n",
    "import matplotlib\n",
    "import numpy as np\n",
    "import pandas as pd\n",
    "from matplotlib import pyplot as plt\n",
    "from sklearn.metrics import confusion_matrix\n",
    "import seaborn as sns"
   ]
  },
  {
   "cell_type": "code",
   "execution_count": 33,
   "metadata": {},
   "outputs": [
    {
     "data": {
      "text/plain": [
       "L2-L3    1388\n",
       "L3-L4    1388\n",
       "L1-L2    1386\n",
       "L4-L5    1386\n",
       "L5-S1    1385\n",
       "Name: Level, dtype: int64"
      ]
     },
     "execution_count": 33,
     "metadata": {},
     "output_type": "execute_result"
    }
   ],
   "source": [
    "### Just a quick scoping of the results (and getting the confusion matrix for the plots below):\n",
    "\n",
    "file = \"../data/df.csv\"\n",
    "df = pd.read_csv(file)\n",
    "print(df['Level'].value_counts())\n",
    "\n",
    "from pycm import ConfusionMatrix\n",
    "from sklearn.metrics import recall_score, cohen_kappa_score, balanced_accuracy_score, matthews_corrcoef, accuracy_score,\\\n",
    "    precision_score, confusion_matrix, brier_score_loss\n",
    "y_true = df['gt_pf'].astype(int).to_numpy()\n",
    "y_pred = df['Pfirrmann'].astype(int).to_numpy()\n",
    "\n",
    "cm = ConfusionMatrix(y_true, y_pred)\n",
    "print(cm)\n",
    "print(\"NIR: \", cm.NIR)\n",
    "print(\"MCC: \", cm.MCC)\n",
    "print(\"Micro specificty: \", cm.TNR_Micro)\n",
    "print(\"Micro sensitivity: \", cm.TPR_Micro)\n",
    "\n",
    "print(\"Un-weighted Kappa: \", cohen_kappa_score(y_true, y_pred))\n",
    "print(\"Linearly weighted Kappa: \", cohen_kappa_score(y_true, y_pred, weights = \"linear\"))\n",
    "print(\"Quadratic weighted Kappa: \", cohen_kappa_score(y_true, y_pred, weights = \"quadratic\"))\n",
    "\n",
    "matrix = confusion_matrix(y_true, y_pred)\n",
    "print(\"Class accuracy: \", matrix.diagonal()/matrix.sum(axis=1))\n",
    "print(\"Balanced accuracy: \", balanced_accuracy_score(y_true, y_pred))\n",
    "print(\"Adjusted balanced accuracy: \", balanced_accuracy_score(y_true, y_pred, adjusted = True))\n",
    "\n",
    "# For the one vs all Brier loss score:\n",
    "y_true = df['Pfirrmann_class_2'].to_numpy()\n",
    "y_prob = df['Pfirrmann_probability_2'].to_numpy()\n",
    "print(\"Brier score loss: \", brier_score_loss(y_true, y_prob))\n",
    "\n",
    "y_true = df['Pfirrmann_class_3'].to_numpy()\n",
    "y_prob = df['Pfirrmann_probability_3'].to_numpy()\n",
    "print(\"Brier score loss: \", brier_score_loss(y_true, y_prob))\n",
    "\n",
    "y_true = df['Pfirrmann_class_4'].to_numpy()\n",
    "y_prob = df['Pfirrmann_probability_4'].to_numpy()\n",
    "print(\"Brier score loss: \", brier_score_loss(y_true, y_prob))\n",
    "\n",
    "y_true = df['Pfirrmann_class_5'].to_numpy()\n",
    "y_prob = df['Pfirrmann_probability_5'].to_numpy()\n",
    "print(\"Brier score loss: \", brier_score_loss(y_true, y_prob))"
   ]
  },
  {
   "cell_type": "code",
   "execution_count": null,
   "metadata": {},
   "outputs": [],
   "source": [
    "\n",
    "def plot_cm(cm, fs, filename, xlab, ylab, title):\n",
    "    cm = cm.astype('float')  # / cm.sum()  # (axis=1)[:, np.newaxis]\n",
    "    matplotlib.rcParams.update({'font.size': fs})\n",
    "    plt.rcParams[\"font.family\"] = \"Times New Roman\"\n",
    "\n",
    "    plt.figure(figsize=(6, 6))\n",
    "\n",
    "    x = [2, 3, 4, 5]\n",
    "    y = [2, 3, 4, 5]\n",
    "\n",
    "    # plt.imshow(cm, cmap=plt.cm.Blues)  # interpolation='nearest', resample=False\n",
    "    sns.heatmap(cm, annot=True, xticklabels=x, yticklabels=y, cmap='Blues', cbar=False)\n",
    "\n",
    "    # thresh = cm.max() / 2.\n",
    "    # for i, j in itertools.product(range(cm.shape[0]), range(cm.shape[1])):\n",
    "    #     plt.text(j, i, '{:.2f}'.format(np.round(cm[i, j] * 100, 2)),\n",
    "    #              horizontalalignment=\"center\",\n",
    "    #              color=\"white\" if cm[i, j] > thresh else \"black\")\n",
    "\n",
    "    if title is not None:\n",
    "        plt.title(title)\n",
    "\n",
    "    plt.xticks(np.arange(cm.shape[0], dtype=int), np.arange(cm.shape[0], dtype=int))\n",
    "    plt.yticks(np.arange(cm.shape[1], dtype=int), np.arange(cm.shape[1], dtype=int))\n",
    "    plt.tight_layout()\n",
    "\n",
    "    plt.ylabel(ylab)\n",
    "    plt.xlabel(xlab)\n",
    "    if filename is not None:\n",
    "        plt.savefig(filename, bbox_inches='tight')\n",
    "\n",
    "    plt.show()\n"
   ]
  },
  {
   "cell_type": "code",
   "execution_count": 9,
   "metadata": {},
   "outputs": [
    {
     "name": "stderr",
     "output_type": "stream",
     "text": [
      "/tmp/ipykernel_51040/3591928591.py:41: UserWarning: Matplotlib is currently using module://matplotlib_inline.backend_inline, which is a non-GUI backend, so cannot show the figure.\n",
      "  fig.show()\n",
      "findfont: Font family ['Times New Roman'] not found. Falling back to DejaVu Sans.\n"
     ]
    },
    {
     "data": {
      "image/png": "[encoded data removed]",
      "text/plain": [
       "<Figure size 288x288 with 1 Axes>"
      ]
     },
     "metadata": {
      "needs_background": "light"
     },
     "output_type": "display_data"
    }
   ],
   "source": [
    "figsize = 4, 4\n",
    "ax, axes = plt.subplots(1, 1, figsize = figsize)\n",
    "sns.set(font=\"Times New Roman\")\n",
    "# ax1 = sns.heatmap(cm/np.sum(cm), annot=True,\n",
    "#             fmt='.2%', xticklabels=x, yticklabels=y, cmap='Greens', cbar = False)\n",
    "#\n",
    "# ax1.set(title=\"Pfirrmann grades\",\n",
    "#       xlabel=\"Reference (radiologist)\",\n",
    "#       ylabel=\"Target (SpineNet)\")\n",
    "#\n",
    "#\n",
    "# D\n",
    "#\n",
    "# fig = ax1.get_figure()\n",
    "# fig = ax2.get_figure()\n",
    "\n",
    "# fig.suptitle(\"Contingency tables\")\n",
    "# fig.savefig(\"../output/comfusion_matrix_dd.svg\")\n",
    "# fig.show()\n",
    "\n",
    "\n",
    "ax1 = sns.heatmap(cm/np.sum(cm), annot=True,\n",
    "            fmt='.2%', cmap='Blues', cbar=False)\n",
    "\n",
    "# sns.set(font=\"Times New Roman\")\n",
    "ax1.set(title=\"Modic changes\",\n",
    "      xlabel=\"Reference (radiologist)\",\n",
    "      ylabel=\"Prediction (SpineNet)\")\n",
    "\n",
    "\n",
    "# ax2 = sns.heatmap(cm/sum(cm), annot=True,\n",
    "#             fmt='.2%', cmap='Blues', cbar = False, ax = axes[1])\n",
    "\n",
    "\n",
    "\n",
    "fig = ax1.get_figure()\n",
    "# fig = ax2.get_figure()\n",
    "\n",
    "# fig.suptitle(\"Contingency tables\")\n",
    "# fig.savefig(\"../output/comfusion_matrix_dd.svg\")\n",
    "fig.show()"
   ]
  },
  {
   "cell_type": "code",
   "execution_count": null,
   "metadata": {},
   "outputs": [],
   "source": []
  },
  {
   "cell_type": "code",
   "execution_count": null,
   "metadata": {},
   "outputs": [],
   "source": []
  },
  {
   "cell_type": "code",
   "execution_count": null,
   "metadata": {},
   "outputs": [],
   "source": []
  },
  {
   "cell_type": "code",
   "execution_count": null,
   "metadata": {},
   "outputs": [],
   "source": []
  },
  {
   "cell_type": "code",
   "execution_count": null,
   "metadata": {},
   "outputs": [],
   "source": []
  },
  {
   "cell_type": "code",
   "execution_count": null,
   "metadata": {},
   "outputs": [],
   "source": []
  },
  {
   "cell_type": "code",
   "execution_count": null,
   "metadata": {},
   "outputs": [],
   "source": []
  },
  {
   "cell_type": "code",
   "execution_count": null,
   "metadata": {},
   "outputs": [],
   "source": []
  }
 ],
 "metadata": {
  "kernelspec": {
   "display_name": "Python 3.8.13 ('bap')",
   "language": "python",
   "name": "python3"
  },
  "language_info": {
   "codemirror_mode": {
    "name": "ipython",
    "version": 3
   },
   "file_extension": ".py",
   "mimetype": "text/x-python",
   "name": "python",
   "nbconvert_exporter": "python",
   "pygments_lexer": "ipython3",
   "version": "3.8.13"
  },
  "orig_nbformat": 4,
  "vscode": {
   "interpreter": {
    "hash": "ea7e6e319169e7f26e393039e381107ccc0a0d9a640a40a5dd4d1565125f3f2d"
   }
  }
 },
 "nbformat": 4,
 "nbformat_minor": 2
}
