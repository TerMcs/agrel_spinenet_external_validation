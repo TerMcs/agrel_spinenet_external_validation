{
 "cells": [
  {
   "cell_type": "code",
   "execution_count": 187,
   "metadata": {},
   "outputs": [],
   "source": [
    "import numpy as np\n",
    "import matplotlib.pyplot as plt\n",
    "from itertools import cycle\n",
    "from sklearn import svm, datasets\n",
    "from sklearn.metrics import roc_curve, auc, roc_auc_score,balanced_accuracy_score,brier_score_loss\n",
    "from sklearn.model_selection import train_test_split\n",
    "from sklearn.preprocessing import label_binarize\n",
    "from sklearn.multiclass import OneVsRestClassifier\n",
    "import pandas as pd"
   ]
  },
  {
   "cell_type": "code",
   "execution_count": 188,
   "metadata": {},
   "outputs": [],
   "source": [
    "df = pd.read_csv('../data/df.csv')"
   ]
  },
  {
   "cell_type": "code",
   "execution_count": 189,
   "metadata": {},
   "outputs": [],
   "source": [
    "targets = df[[\"Pfirrmann_class_2\", \"Pfirrmann_class_3\", \"Pfirrmann_class_4\", \"Pfirrmann_class_5\"]].to_numpy()\n",
    "probs = df[[\"Pfirrmann_probability_1_2_sum\", \"Pfirrmann_probability_3\", \"Pfirrmann_probability_4\", \"Pfirrmann_probability_5\"]].to_numpy()"
   ]
  },
  {
   "cell_type": "code",
   "execution_count": 190,
   "metadata": {},
   "outputs": [
    {
     "data": {
      "text/plain": [
       "0.1976831898341787"
      ]
     },
     "execution_count": 190,
     "metadata": {},
     "output_type": "execute_result"
    }
   ],
   "source": [
    "def brier_multi(targets, probs):\n",
    "    return np.mean(np.sum((probs - targets)**2, axis=1))\n",
    "\n",
    "brier_multi(targets, probs)"
   ]
  },
  {
   "cell_type": "code",
   "execution_count": 191,
   "metadata": {},
   "outputs": [],
   "source": [
    "df_mc_r = df[['project_ID', 'Level', 'UpperMC_probability', 'UpperMC_correct', 'UpperMarrow', 'gt_mc_r']].copy()\n",
    "df_mc_r.rename(columns = {'UpperMC_probability':'MC_probability', 'UpperMC_correct': 'MC_correct','UpperMarrow':'MC_prediction', 'gt_mc_r':'gt_mc'}, inplace = True)\n",
    "\n",
    "df_mc_c = df[['project_ID', 'Level', 'LowerMC_probability','UpperMC_correct', 'LowerMarrow', 'gt_mc_c']].copy()\n",
    "df_mc_c.rename(columns = {'LowerMC_probability':'MC_probability','UpperMC_correct': 'MC_correct', 'LowerMarrow':'MC_prediction', 'gt_mc_c':'gt_mc'}, inplace = True)\n",
    "\n",
    "dfs = [df_mc_r, df_mc_c]\n",
    "\n",
    "df_mc = pd.concat(dfs)\n",
    "\n",
    "\n"
   ]
  },
  {
   "cell_type": "code",
   "execution_count": 192,
   "metadata": {},
   "outputs": [],
   "source": [
    "df_mc.dropna(inplace=True)"
   ]
  },
  {
   "cell_type": "code",
   "execution_count": 193,
   "metadata": {},
   "outputs": [],
   "source": [
    "def a(row):\n",
    "    val = None\n",
    "    if row['MC_prediction'] == 1:\n",
    "        val = row['MC_probability']\n",
    "    elif row['MC_prediction'] == 0:\n",
    "        val = 1 - row['MC_probability']\n",
    "    return val\n",
    "\n",
    "df_mc['MC_gt_probabilities'] = df_mc.apply(a, axis=1)"
   ]
  },
  {
   "cell_type": "code",
   "execution_count": null,
   "metadata": {},
   "outputs": [],
   "source": []
  },
  {
   "cell_type": "code",
   "execution_count": null,
   "metadata": {},
   "outputs": [],
   "source": []
  },
  {
   "cell_type": "code",
   "execution_count": 194,
   "metadata": {},
   "outputs": [
    {
     "data": {
      "text/plain": [
       "0.20656259034403007"
      ]
     },
     "execution_count": 194,
     "metadata": {},
     "output_type": "execute_result"
    }
   ],
   "source": [
    "targets = df_mc[\"gt_mc\"].astype('int32').to_numpy()\n",
    "probs = df_mc[\"MC_gt_probabilities\"].astype('int32').to_numpy()\n",
    "\n",
    "# test = targets - probs\n",
    "\n",
    "def brier_binary(targets, probs):\n",
    "    return np.mean((targets - probs) ** 2)\n",
    "\n",
    "brier_binary(targets, probs)\n",
    "# np.mean(test ** 2)"
   ]
  },
  {
   "cell_type": "code",
   "execution_count": 195,
   "metadata": {},
   "outputs": [],
   "source": [
    "from pycm import ConfusionMatrix\n"
   ]
  },
  {
   "cell_type": "code",
   "execution_count": 196,
   "metadata": {},
   "outputs": [
    {
     "name": "stdout",
     "output_type": "stream",
     "text": [
      "Predict     0           1           \n",
      "Actual\n",
      "0           10553       425         \n",
      "\n",
      "1           715         2143        \n",
      "\n",
      "\n",
      "\n",
      "\n",
      "\n",
      "Overall Statistics : \n",
      "\n",
      "95% CI                                                            (0.91302,0.92219)\n",
      "ACC Macro                                                         0.91761\n",
      "ARI                                                               0.64989\n",
      "AUNP                                                              0.85556\n",
      "AUNU                                                              0.85556\n",
      "Bangdiwala B                                                      0.88491\n",
      "Bennett S                                                         0.83521\n",
      "CBA                                                               0.84319\n",
      "CSI                                                               0.74108\n",
      "Chi-Squared                                                       7586.28683\n",
      "Chi-Squared DF                                                    1\n",
      "Conditional Entropy                                               0.35518\n",
      "Cramer V                                                          0.74047\n",
      "Cross Entropy                                                     0.7369\n",
      "F1 Macro                                                          0.86933\n",
      "F1 Micro                                                          0.91761\n",
      "FNR Macro                                                         0.14444\n",
      "FNR Micro                                                         0.08239\n",
      "FPR Macro                                                         0.14444\n",
      "FPR Micro                                                         0.08239\n",
      "Gwet AC1                                                          0.87967\n",
      "Hamming Loss                                                      0.08239\n",
      "Joint Entropy                                                     1.09004\n",
      "KL Divergence                                                     0.00204\n",
      "Kappa                                                             0.73884\n",
      "Kappa 95% CI                                                      (0.72431,0.75336)\n",
      "Kappa No Prevalence                                               0.83521\n",
      "Kappa Standard Error                                              0.00741\n",
      "Kappa Unbiased                                                    0.73866\n",
      "Krippendorff Alpha                                                0.73866\n",
      "Lambda A                                                          0.60112\n",
      "Lambda B                                                          0.55607\n",
      "Mutual Information                                                0.337\n",
      "NIR                                                               0.79344\n",
      "Overall ACC                                                       0.91761\n",
      "Overall CEN                                                       0.34782\n",
      "Overall J                                                         (1.55526,0.77763)\n",
      "Overall MCC                                                       0.74047\n",
      "Overall MCEN                                                      0.27973\n",
      "Overall RACC                                                      0.68451\n",
      "Overall RACCU                                                     0.68473\n",
      "P-Value                                                           None\n",
      "PPV Macro                                                         0.88552\n",
      "PPV Micro                                                         0.91761\n",
      "Pearson C                                                         0.59509\n",
      "Phi-Squared                                                       0.5483\n",
      "RCI                                                               0.4586\n",
      "RR                                                                6918.0\n",
      "Reference Entropy                                                 0.73486\n",
      "Response Entropy                                                  0.69218\n",
      "SOA1(Landis & Koch)                                               Substantial\n",
      "SOA2(Fleiss)                                                      Intermediate to Good\n",
      "SOA3(Altman)                                                      Good\n",
      "SOA4(Cicchetti)                                                   Good\n",
      "SOA5(Cramer)                                                      Strong\n",
      "SOA6(Matthews)                                                    Strong\n",
      "Scott PI                                                          0.73866\n",
      "Standard Error                                                    0.00234\n",
      "TNR Macro                                                         0.85556\n",
      "TNR Micro                                                         0.91761\n",
      "TPR Macro                                                         0.85556\n",
      "TPR Micro                                                         0.91761\n",
      "Zero-one Loss                                                     1140\n",
      "\n",
      "Class Statistics :\n",
      "\n",
      "Classes                                                           0             1             \n",
      "ACC(Accuracy)                                                     0.91761       0.91761       \n",
      "AGF(Adjusted F-score)                                             0.88338       0.84882       \n",
      "AGM(Adjusted geometric mean)                                      0.83202       0.89868       \n",
      "AM(Difference between automatic and manual classification)        290           -290          \n",
      "AUC(Area under the ROC curve)                                     0.85556       0.85556       \n",
      "AUCI(AUC value interpretation)                                    Very Good     Very Good     \n",
      "AUPR(Area under the PR curve)                                     0.94892       0.79216       \n",
      "BB(Braun-Blanquet similarity)                                     0.93655       0.74983       \n",
      "BCD(Bray-Curtis dissimilarity)                                    0.01048       0.01048       \n",
      "BM(Informedness or bookmaker informedness)                        0.71111       0.71111       \n",
      "CEN(Confusion entropy)                                            0.26849       0.67309       \n",
      "DOR(Diagnostic odds ratio)                                        74.42231      74.42231      \n",
      "DP(Discriminant power)                                            1.03192       1.03192       \n",
      "DPI(Discriminant power interpretation)                            Limited       Limited       \n",
      "ERR(Error rate)                                                   0.08239       0.08239       \n",
      "F0.5(F0.5 score)                                                  0.94139       0.81607       \n",
      "F1(F1 score - harmonic mean of precision and sensitivity)         0.94875       0.7899        \n",
      "F2(F2 score)                                                      0.95623       0.76536       \n",
      "FDR(False discovery rate)                                         0.06345       0.1655        \n",
      "FN(False negative/miss/type 2 error)                              425           715           \n",
      "FNR(Miss rate or false negative rate)                             0.03871       0.25017       \n",
      "FOR(False omission rate)                                          0.1655        0.06345       \n",
      "FP(False positive/type 1 error/false alarm)                       715           425           \n",
      "FPR(Fall-out or false positive rate)                              0.25017       0.03871       \n",
      "G(G-measure geometric mean of precision and sensitivity)          0.94884       0.79103       \n",
      "GI(Gini index)                                                    0.71111       0.71111       \n",
      "GM(G-mean geometric mean of specificity and sensitivity)          0.849         0.849         \n",
      "HD(Hamming distance)                                              1140          1140          \n",
      "IBA(Index of balanced accuracy)                                   0.87322       0.56838       \n",
      "ICSI(Individual classification success index)                     0.89783       0.58433       \n",
      "IS(Information score)                                             0.23923       2.01434       \n",
      "J(Jaccard index)                                                  0.90251       0.65276       \n",
      "LS(Lift score)                                                    1.18037       4.03995       \n",
      "MCC(Matthews correlation coefficient)                             0.74047       0.74047       \n",
      "MCCI(Matthews correlation coefficient interpretation)             Strong        Strong        \n",
      "MCEN(Modified confusion entropy)                                  0.42033       0.86074       \n",
      "MK(Markedness)                                                    0.77105       0.77105       \n",
      "N(Condition negative)                                             2858          10978         \n",
      "NLR(Negative likelihood ratio)                                    0.05163       0.26025       \n",
      "NLRI(Negative likelihood ratio interpretation)                    Good          Poor          \n",
      "NPV(Negative predictive value)                                    0.8345        0.93655       \n",
      "OC(Overlap coefficient)                                           0.96129       0.8345        \n",
      "OOC(Otsuka-Ochiai coefficient)                                    0.94884       0.79103       \n",
      "OP(Optimized precision)                                           0.79403       0.79403       \n",
      "P(Condition positive or support)                                  10978         2858          \n",
      "PLR(Positive likelihood ratio)                                    3.84246       19.36842      \n",
      "PLRI(Positive likelihood ratio interpretation)                    Poor          Good          \n",
      "POP(Population)                                                   13836         13836         \n",
      "PPV(Precision or positive predictive value)                       0.93655       0.8345        \n",
      "PRE(Prevalence)                                                   0.79344       0.20656       \n",
      "Q(Yule Q - coefficient of colligation)                            0.97348       0.97348       \n",
      "QI(Yule Q interpretation)                                         Strong        Strong        \n",
      "RACC(Random accuracy)                                             0.64617       0.03834       \n",
      "RACCU(Random accuracy unbiased)                                   0.64628       0.03845       \n",
      "TN(True negative/correct rejection)                               2143          10553         \n",
      "TNR(Specificity or true negative rate)                            0.74983       0.96129       \n",
      "TON(Test outcome negative)                                        2568          11268         \n",
      "TOP(Test outcome positive)                                        11268         2568          \n",
      "TP(True positive/hit)                                             10553         2143          \n",
      "TPR(Sensitivity, recall, hit rate, or true positive rate)         0.96129       0.74983       \n",
      "Y(Youden index)                                                   0.71111       0.71111       \n",
      "dInd(Distance index)                                              0.25315       0.25315       \n",
      "sInd(Similarity index)                                            0.82099       0.82099       \n",
      "\n"
     ]
    }
   ],
   "source": [
    "df = df_mc\n",
    "y_true = df['gt_mc'].astype('int32').to_numpy()\n",
    "y_pred = df['MC_prediction'].astype('int32').to_numpy()\n",
    "y_probs = df['MC_gt_probabilities'].to_numpy()\n",
    "cm = ConfusionMatrix(y_true, y_pred)\n",
    "print(cm)"
   ]
  },
  {
   "cell_type": "code",
   "execution_count": 197,
   "metadata": {},
   "outputs": [],
   "source": [
    "fpr, tpr, _ = roc_curve(y_true, y_probs)\n",
    "roc_auc = auc(fpr, tpr)"
   ]
  },
  {
   "cell_type": "code",
   "execution_count": 198,
   "metadata": {},
   "outputs": [
    {
     "name": "stdout",
     "output_type": "stream",
     "text": [
      "0.9479362695108393\n",
      "[0.         0.         0.         ... 0.99444343 0.99590089 1.        ]\n"
     ]
    }
   ],
   "source": [
    "print(roc_auc)\n",
    "print(fpr)"
   ]
  },
  {
   "cell_type": "code",
   "execution_count": 199,
   "metadata": {},
   "outputs": [
    {
     "data": {
      "image/png": "[encoded data removed]",
      "text/plain": [
       "<Figure size 432x432 with 1 Axes>"
      ]
     },
     "metadata": {
      "needs_background": "light"
     },
     "output_type": "display_data"
    }
   ],
   "source": [
    "plt.figure(figsize=(6, 6))\n",
    "plt.plot(\n",
    "    fpr,\n",
    "    tpr,\n",
    "    color=\"black\",\n",
    "    label=\"Area = %0.2f)\" % roc_auc\n",
    ")\n",
    "plt.plot([0, 1], [0, 1], color=\"black\", lw=2, linestyle=\"dotted\")\n",
    "plt.xlim([0.0, 1.0])\n",
    "plt.ylim([0.0, 1.05])\n",
    "plt.xlabel(\"1 - Specificity\")\n",
    "plt.ylabel(\"Sensitivity\")\n",
    "plt.title(f\"All levels\")\n",
    "plt.legend(loc=\"lower right\")\n",
    "plt.box(False)\n",
    "\n",
    "# plt.savefig(f'../outputs/ROC_MC_all.tiff', dpi=1200)\n",
    "plt.show()"
   ]
  },
  {
   "cell_type": "code",
   "execution_count": 42,
   "metadata": {},
   "outputs": [],
   "source": []
  },
  {
   "cell_type": "code",
   "execution_count": 186,
   "metadata": {},
   "outputs": [],
   "source": [
    "df_mc.to_csv('../data/ROC_testing_3.csv')"
   ]
  },
  {
   "cell_type": "code",
   "execution_count": 68,
   "metadata": {},
   "outputs": [
    {
     "name": "stdout",
     "output_type": "stream",
     "text": [
      "Balanced accuracy: \n",
      "0.8555556306327268\n",
      "Brier score: \n",
      "0.20656259034403007\n"
     ]
    },
    {
     "data": {
      "image/png": "[encoded data removed]",
      "text/plain": [
       "<Figure size 432x432 with 1 Axes>"
      ]
     },
     "metadata": {
      "needs_background": "light"
     },
     "output_type": "display_data"
    }
   ],
   "source": [
    "df = df_mc\n",
    "\n",
    "y_test = df['gt_mc'].astype('int32').to_numpy()\n",
    "y_prediction = df['MC_prediction'].astype('int32').to_numpy()\n",
    "\n",
    "# for i in range(n_classes):\n",
    "print('Balanced accuracy: ')\n",
    "print(balanced_accuracy_score(y_test, y_prediction))\n",
    "\n",
    "\n",
    "y_prob = df[\"MC_gt_probabilities\"].astype('int32').to_numpy()\n",
    "print('Brier score: ')\n",
    "print(brier_score_loss(y_test, y_prob))\n",
    "\n",
    "fpr, tpr, _ = roc_curve(y_test, y_prob)\n",
    "roc_auc = auc(fpr, tpr)\n",
    "\n",
    "#### For single ROC plot ####\n",
    "# for i in range(n_classes):\n",
    "plt.figure(figsize=(6, 6))\n",
    "plt.plot(\n",
    "    fpr,\n",
    "    tpr,\n",
    "    color=\"black\",\n",
    "    label=\"Area = %0.2f)\" % roc_auc\n",
    ")\n",
    "plt.plot([0, 1], [0, 1], color=\"black\", lw=2, linestyle=\"dotted\")\n",
    "plt.xlim([0.0, 1.0])\n",
    "plt.ylim([0.0, 1.05])\n",
    "plt.xlabel(\"1 - Specificity\")\n",
    "plt.ylabel(\"Sensitivity\")\n",
    "plt.title(f\"All levels\")\n",
    "plt.legend(loc=\"lower right\")\n",
    "plt.box(False)\n",
    "\n",
    "# plt.savefig(f'../outputs/ROC_MC_all.tiff', dpi=1200)\n",
    "plt.show()"
   ]
  },
  {
   "cell_type": "code",
   "execution_count": 35,
   "metadata": {},
   "outputs": [
    {
     "name": "stdout",
     "output_type": "stream",
     "text": [
      "0.658717174912291\n"
     ]
    }
   ],
   "source": [
    "from sklearn.metrics import roc_curve, auc, roc_auc_score,balanced_accuracy_score,brier_score_loss\n",
    "print(brier_score_loss(targets, probs))"
   ]
  },
  {
   "cell_type": "code",
   "execution_count": null,
   "metadata": {},
   "outputs": [],
   "source": []
  },
  {
   "cell_type": "code",
   "execution_count": 146,
   "metadata": {},
   "outputs": [
    {
     "name": "stdout",
     "output_type": "stream",
     "text": [
      "[0.  0.  0.  0.5 0.5 1. ]\n",
      "[0.         0.33333333 0.66666667 0.66666667 1.         1.        ]\n"
     ]
    },
    {
     "data": {
      "text/plain": [
       "array([1.9 , 0.9 , 0.8 , 0.4 , 0.35, 0.1 ])"
      ]
     },
     "execution_count": 146,
     "metadata": {},
     "output_type": "execute_result"
    }
   ],
   "source": [
    "import numpy as np\n",
    "from sklearn.metrics import roc_curve\n",
    "y = np.array([0, 0, 1, 1, 1])\n",
    "scores = np.array([0.1, 0.4, 0.35, 0.8, 0.9])\n",
    "fpr, tpr, thresholds = roc_curve(y, scores, pos_label=1)\n",
    "print(fpr)\n",
    "\n",
    "print(tpr)\n",
    "\n",
    "thresholds"
   ]
  },
  {
   "cell_type": "code",
   "execution_count": 147,
   "metadata": {},
   "outputs": [
    {
     "data": {
      "image/png": "[encoded data removed]",
      "text/plain": [
       "<Figure size 432x432 with 1 Axes>"
      ]
     },
     "metadata": {
      "needs_background": "light"
     },
     "output_type": "display_data"
    }
   ],
   "source": [
    "plt.figure(figsize=(6, 6))\n",
    "plt.plot(\n",
    "    fpr,\n",
    "    tpr,\n",
    "    color=\"black\",\n",
    "    label=\"Area = %0.2f)\" % roc_auc\n",
    ")\n",
    "plt.plot([0, 1], [0, 1], color=\"black\", lw=2, linestyle=\"dotted\")\n",
    "plt.xlim([0.0, 1.0])\n",
    "plt.ylim([0.0, 1.05])\n",
    "plt.xlabel(\"1 - Specificity\")\n",
    "plt.ylabel(\"Sensitivity\")\n",
    "plt.title(f\"All levels\")\n",
    "plt.legend(loc=\"lower right\")\n",
    "plt.box(False)\n",
    "\n",
    "# plt.savefig(f'../outputs/ROC_MC_all.tiff', dpi=1200)\n",
    "plt.show()"
   ]
  },
  {
   "cell_type": "code",
   "execution_count": 164,
   "metadata": {},
   "outputs": [],
   "source": [
    "df = pd.read_csv('../data/ROC_testing.csv')"
   ]
  },
  {
   "cell_type": "code",
   "execution_count": 165,
   "metadata": {},
   "outputs": [],
   "source": [
    "y_true = df['gt_mc'].astype('int32').to_numpy()\n",
    "y_trueB = df['MC_correct'].astype('int32').to_numpy()\n",
    "\n",
    "y_pred = df['MC_prediction'].astype('int32').to_numpy()\n",
    "y_probs = df['MC_gt_probabilities'].to_numpy()\n",
    "y_probsB = df['MC_probability'].to_numpy()"
   ]
  },
  {
   "cell_type": "code",
   "execution_count": 168,
   "metadata": {},
   "outputs": [
    {
     "data": {
      "image/png": "[encoded data removed]",
      "text/plain": [
       "<Figure size 432x432 with 1 Axes>"
      ]
     },
     "metadata": {
      "needs_background": "light"
     },
     "output_type": "display_data"
    }
   ],
   "source": [
    "fpr, tpr, thresholds = roc_curve(y_true, y_probs)\n",
    "roc_auc = auc(fpr, tpr)\n",
    "\n",
    "\n",
    "\n",
    "plt.figure(figsize=(6, 6))\n",
    "plt.plot(\n",
    "    fpr,\n",
    "    tpr,\n",
    "    color=\"black\",\n",
    "    label=\"Area = %0.2f)\" % roc_auc\n",
    ")\n",
    "plt.plot([0, 1], [0, 1], color=\"black\", lw=2, linestyle=\"dotted\")\n",
    "plt.xlim([0.0, 1.0])\n",
    "plt.ylim([0.0, 1.05])\n",
    "plt.xlabel(\"1 - Specificity\")\n",
    "plt.ylabel(\"Sensitivity\")\n",
    "plt.title(f\"All levels\")\n",
    "plt.legend(loc=\"lower right\")\n",
    "plt.box(False)\n",
    "\n",
    "plt.savefig(f'../outputs/ROC_MC_all.tiff', dpi=1200)\n",
    "plt.show()"
   ]
  },
  {
   "cell_type": "code",
   "execution_count": null,
   "metadata": {},
   "outputs": [],
   "source": []
  }
 ],
 "metadata": {
  "kernelspec": {
   "display_name": "Python 3.8.13 ('bap')",
   "language": "python",
   "name": "python3"
  },
  "language_info": {
   "codemirror_mode": {
    "name": "ipython",
    "version": 3
   },
   "file_extension": ".py",
   "mimetype": "text/x-python",
   "name": "python",
   "nbconvert_exporter": "python",
   "pygments_lexer": "ipython3",
   "version": "3.8.13"
  },
  "orig_nbformat": 4,
  "vscode": {
   "interpreter": {
    "hash": "ea7e6e319169e7f26e393039e381107ccc0a0d9a640a40a5dd4d1565125f3f2d"
   }
  }
 },
 "nbformat": 4,
 "nbformat_minor": 2
}
